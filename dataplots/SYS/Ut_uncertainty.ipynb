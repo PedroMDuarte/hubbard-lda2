{
 "metadata": {
  "name": "",
  "signature": "sha256:726175b1677670531b0f608479675720e0f49a490f9b5fd21377b805fa1aa30e"
 },
 "nbformat": 3,
 "nbformat_minor": 0,
 "worksheets": [
  {
   "cells": [
    {
     "cell_type": "code",
     "collapsed": false,
     "input": [
      "# Determination of the error in U0/t0 due to the \n",
      "# systematic uncertainty in the lattice depth\n",
      "\n",
      "from uncertainties import ufloat,unumpy\n",
      "from scipy import stats\n",
      "\n",
      "wF = np.loadtxt('../EXP/tANDU.dat')\n",
      "wF = wF[ np.logical_and(  wF[ :, 0] > 6.5 , wF[:,0]<7.5  ) ] \n",
      "#\n",
      "z = np.polyfit( wF[:,0], np.power( wF[:,2], 1./3.) , 1)  \n",
      "p_wF = np.poly1d(z) \n",
      "x = np.linspace( 6., 8., 20) \n",
      "plt.plot( wF[:,0], np.power(wF[:,2], 1./3.), '.', color='black')\n",
      "plt.plot( x, p_wF(x), '-' )  \n",
      "ax = plt.gca()\n",
      "ax.set_xlabel('$v_{0}$')\n",
      "ax.set_ylabel('$(\\mathrm{wF})^{1/3}$')\n",
      "plt.show()\n",
      "#\n",
      "z_t = np.polyfit( wF[:,0], wF[:,1], 1 )\n",
      "p_t = np.poly1d(z_t) \n",
      "x = np.linspace( 6., 8., 20) \n",
      "plt.plot( wF[:,0], wF[:,1], '.', color='black')\n",
      "plt.plot( x, p_t(x), '-' )  \n",
      "ax = plt.gca()\n",
      "ax.set_xlabel('$v_{0}$')\n",
      "ax.set_ylabel('$t$')\n",
      "plt.show()\n",
      "\n",
      "\n",
      "\n",
      "\n",
      "# get the uncertainty in the lattice depth for x,y,z\n",
      "sx = ufloat( 21.8, 0.3)\n",
      "sy = ufloat( 21.6, 0.2)\n",
      "sz = ufloat( 18.6, 0.5)\n",
      "\n",
      "def get_v0( s ):\n",
      "    mW = 7.0 * s.nominal_value \n",
      "    return  mW / s\n",
      "\n",
      "v0x = get_v0( sx)\n",
      "v0y = get_v0( sy)\n",
      "v0z = get_v0( sz)\n",
      "\n",
      "print \"Lattice depths:\"\n",
      "print v0x\n",
      "print v0y\n",
      "print v0z\n",
      "\n",
      "v0x= ufloat( 7., 0.05*7.)\n",
      "v0y= ufloat( 7., 0.05*7.)\n",
      "v0z= ufloat( 7., 0.05*7.)\n",
      "\n",
      "print \"Lattice depths (5% systematic):\"\n",
      "print v0x\n",
      "print v0y\n",
      "print v0z\n",
      "\n",
      "print\n",
      "print \"wF^(1/3)'s : \"\n",
      "print p_wF( v0x )\n",
      "print p_wF( v0y )\n",
      "print p_wF( v0z )\n",
      "\n",
      "\n",
      "print \n",
      "print \"t's :\"\n",
      "print p_t( v0x )\n",
      "print p_t( v0y )\n",
      "print p_t( v0z )\n",
      "\n",
      "\n",
      "aS = 290. \n",
      "a0a = 5.29e-11 / 532e-9\n",
      "\n",
      "U = aS*a0a * ( p_wF(v0x) * p_wF(v0y) * p_wF(v0z)   ) / ((  p_t(v0x) + p_t(v0y) + p_t(v0z))/3.)\n",
      "print \n",
      "print \"U:\"\n",
      "print U\n",
      " \n",
      "#s0_err =  np.sqrt(  get_err_sq( sx ) \\\n",
      "#             + get_err_sq( sy ) + get_err_sq( sz ) )\n",
      "\n",
      "#U_err_factor = slope_wF13 * s0_err \n",
      "\n",
      "#print slope_wF13\n",
      "#print get_err_sq( sx ) \n",
      "#print get_err_sq( sy ) \n",
      "#print get_err_sq( sz ) \n",
      "#print  s0_err \n",
      "#print U_err_factor"
     ],
     "language": "python",
     "metadata": {},
     "outputs": [
      {
       "metadata": {},
       "output_type": "display_data",
       "png": "[encoded data removed]",
       "text": [
        "<matplotlib.figure.Figure at 0xa0f9bec>"
       ]
      },
      {
       "metadata": {},
       "output_type": "display_data",
       "png": "[encoded data removed]",
       "text": [
        "<matplotlib.figure.Figure at 0xa3fda2c>"
       ]
      },
      {
       "output_type": "stream",
       "stream": "stdout",
       "text": [
        "Lattice depths:\n",
        "7.00+/-0.10\n",
        "7.00+/-0.06\n",
        "7.00+/-0.19\n",
        "Lattice depths (5% systematic):\n",
        "7.00+/-0.35\n",
        "7.00+/-0.35\n",
        "7.00+/-0.35\n",
        "\n",
        "wF^(1/3)'s : \n",
        "2.48+/-0.04\n",
        "2.48+/-0.04\n",
        "2.48+/-0.04\n",
        "\n",
        "t's :\n",
        "0.0391+/-0.0031\n",
        "0.0391+/-0.0031\n",
        "0.0391+/-0.0031\n",
        "\n",
        "U:\n",
        "11.2+/-0.8\n"
       ]
      }
     ],
     "prompt_number": 37
    },
    {
     "cell_type": "code",
     "collapsed": false,
     "input": [
      "0.2/7."
     ],
     "language": "python",
     "metadata": {},
     "outputs": [
      {
       "metadata": {},
       "output_type": "pyout",
       "prompt_number": 38,
       "text": [
        "0.028571428571428574"
       ]
      }
     ],
     "prompt_number": 38
    },
    {
     "cell_type": "code",
     "collapsed": false,
     "input": [
      "0.8/11.1\n"
     ],
     "language": "python",
     "metadata": {},
     "outputs": [
      {
       "metadata": {},
       "output_type": "pyout",
       "prompt_number": 39,
       "text": [
        "0.07207207207207207"
       ]
      }
     ],
     "prompt_number": 39
    },
    {
     "cell_type": "code",
     "collapsed": false,
     "input": [
      "11.1 * 0.92"
     ],
     "language": "python",
     "metadata": {},
     "outputs": [
      {
       "metadata": {},
       "output_type": "pyout",
       "prompt_number": 40,
       "text": [
        "10.212"
       ]
      }
     ],
     "prompt_number": 40
    },
    {
     "cell_type": "code",
     "collapsed": false,
     "input": [],
     "language": "python",
     "metadata": {},
     "outputs": []
    }
   ],
   "metadata": {}
  }
 ]
}