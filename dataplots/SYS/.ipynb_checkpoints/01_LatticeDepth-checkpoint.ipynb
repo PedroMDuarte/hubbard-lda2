{
 "metadata": {
  "name": "",
  "signature": "sha256:1325bd1d065ec225457218699e521169b68023990c738b5c617c0d2b91a17b63"
 },
 "nbformat": 3,
 "nbformat_minor": 0,
 "worksheets": [
  {
   "cells": [
    {
     "cell_type": "code",
     "collapsed": false,
     "input": [
      "# Start matplotlib\n",
      "from matplotlib import rc\n",
      "rc('text', usetex=True)\n",
      "plt.rcParams['text.latex.preamble'] = [\n",
      "       r'\\usepackage{bm}',        # for bold math\n",
      "       r'\\usepackage{siunitx}',   # i need upright \\micro symbols, but you need...\n",
      "       r'\\sisetup{detect-all}',   # ...this to force siunitx to actually use your fonts\n",
      "       r'\\usepackage[textlf]{MyriadPro}',\n",
      "       r'\\usepackage{sansmath}',  # load up the sansmath so that math -> helvet\n",
      "       r'\\sansmath',               # <- tricky! -- gotta actually tell tex to use!\n",
      "]    \n",
      "plt.rcParams['axes.linewidth'] = 0.55\n",
      "plt.rcParams['patch.linewidth'] = 0.4\n",
      "\n",
      "gs = matplotlib.gridspec.GridSpec(1,1,\\\n",
      "      wspace=0.35, hspace=0.05,\\\n",
      "      left=0.17, right=0.95, bottom=0.18, top=0.95)\n",
      "fig = plt.figure( figsize(2.1,1.8))\n",
      "ax = fig.add_subplot( gs[0] )\n",
      "\n",
      "import glob \n",
      "import pickle\n",
      "import os\n",
      "\n",
      "# pck keys are :\n",
      "# U111\n",
      "# n111_fine\n",
      "# entrbulk\n",
      "# t111\n",
      "# r111_fine\n",
      "# spi111_fine\n",
      "# Number\n",
      "# Tn\n",
      "# entr111\n",
      "# aS\n",
      "# savedir\n",
      "# n111\n",
      "# SpiBulk\n",
      "# r111\n",
      "# Tspi\n",
      "# spi111\n",
      "# dens111\n",
      "# ldanum\n",
      "\n",
      "\n",
      "result = [] \n",
      "\n",
      "for fpck in glob.glob('01_LatticeDepth/*.pck'):\n",
      "    spis = pickle.load( open( fpck,\"rb\" ) )\n",
      "    \n",
      "    v0 = float(os.path.basename(fpck).split('.pck')[0] ) \n",
      "    spi = spis['SpiBulk']\n",
      "    \n",
      "    result.append( [v0, spi]) \n",
      "    \n",
      "result = np.array(result)\n",
      "ax.plot( result[:,0], result[:,1], '.-')\n",
      "ax.axhspan( 1.962-0.115, 1.962+0.115, facecolor='gray', alpha=0.6)\n",
      "\n",
      "ax.set_xlim(6.5, 7.5) \n",
      "ax.set_ylim(1.4, 2.5)\n",
      "\n",
      "ax.set_xlabel(r'$v_{0}$', fontsize=7)\n",
      "ax.set_ylabel(r'$S_{\\bm{\\pi}}$', rotation=0, fontsize=7, labelpad=8.)\n",
      "ax.tick_params(axis='both', which='major', labelsize=7,  length=1.5)\n",
      "ax.tick_params(axis='both', which='minor', labelsize=7,  length=1.0)    \n",
      "\n",
      "fig.savefig('01_LatticeDepth.png', dpi=300 )\n",
      "    \n",
      "    "
     ],
     "language": "python",
     "metadata": {},
     "outputs": [
      {
       "metadata": {},
       "output_type": "display_data",
       "png": "[encoded data removed]",
       "text": [
        "<matplotlib.figure.Figure at 0xb1ff42c>"
       ]
      }
     ],
     "prompt_number": 30
    },
    {
     "cell_type": "code",
     "collapsed": false,
     "input": [],
     "language": "python",
     "metadata": {},
     "outputs": []
    }
   ],
   "metadata": {}
  }
 ]
}