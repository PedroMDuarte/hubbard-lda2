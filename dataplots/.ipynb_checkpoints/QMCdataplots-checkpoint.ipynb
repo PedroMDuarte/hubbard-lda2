{
 "metadata": {
  "name": "",
  "signature": "sha256:214c8dbebedd544a30726615de91caa00e5002be5ef92b67946c9f3c6176306b"
 },
 "nbformat": 3,
 "nbformat_minor": 0,
 "worksheets": [
  {
   "cells": [
    {
     "cell_type": "markdown",
     "metadata": {},
     "source": [
      "# CELL 1\n",
      "\n",
      "## First gather up all of Thereza's data in a folder called QMC_Final.   Since not the same data is available for entropy and for Spi I will treat them separately.   Data that has Spi is named TX.XXX.dat and data that has entropy is named SX.XXX.dat.  The columns in both cases are the same. \n",
      "\n",
      "Some of the original data files have invalid lines or do not satisfy the naming convention, so before doing this I put all the data in the directory called QMCdatacopy and did any modifications to the files there. "
     ]
    },
    {
     "cell_type": "code",
     "collapsed": false,
     "input": [
      "from matplotlib import rc\n",
      "rc('font', **{'family':'serif'})\n",
      "rc('text', usetex=True)\n",
      "\n",
      "import glob \n",
      "import os \n",
      "\n",
      "# Keep in mind, the data files are \n",
      "#     saf files are:   mu  n  n_err  Spi/n  err  Sth/n  err\n",
      "# entropy files are:   mu  n  n_err  entropy\n",
      "\n",
      "# The output files will be (8 columns)\n",
      "#     mu  n  n_err  Spi/n  err  Sth/n  err  entropy\n",
      "\n",
      "\n",
      "# The QMC data needs 3 signficant digits in the temperature.\n",
      "# Here is the correspondance\n",
      "Tvaldict = {\\\n",
      "    0.36:0.357,\\\n",
      "    0.37:0.370,\\\n",
      "    0.38:0.385,\\\n",
      "    0.40:0.400,\\\n",
      "    0.50:0.500,\\\n",
      "    0.67:0.667,\\\n",
      "    1.00:1.000,\\\n",
      "   }\n",
      "\n",
      "\n",
      "qmcdict_U_SPI = {}\n",
      "qmcdict_T_SPI = {}\n",
      "\n",
      "qmcdict_U_ENTR = {}\n",
      "qmcdict_T_ENTR = {}\n",
      "\n",
      "def addto( key, val, dic):\n",
      "    if key in dic.keys():\n",
      "        dic[key].append(val)\n",
      "    else:\n",
      "        dic[key] = [val]\n",
      "\n",
      "\n",
      "datadir = '../QMCdatacopy/'\n",
      "fname = datadir + 'U*'\n",
      "us = sorted([ float(u.split('/U')[-1]) for u in glob.glob(fname) ] )\n",
      "\n",
      "for Uval in us: \n",
      "    print\n",
      "    print \"U =\",Uval\n",
      "    \n",
      "    \n",
      "    # DEALING WITH SAF DATA:\n",
      "    print \"Spi data:\"\n",
      "    fname = datadir + 'U{U:02d}/saf*dat'.format(U=int(Uval))\n",
      "    fs = sorted(glob.glob(fname))\n",
      "    #print fs\n",
      "    for i,f in enumerate(fs):       \n",
      "        dat = None\n",
      "        for i in range(10):\n",
      "            try:\n",
      "                dat = np.loadtxt(f, skiprows=i)\n",
      "                break\n",
      "            except:\n",
      "                if i == 9:\n",
      "                    print \"\\n\\n problems:\"\n",
      "                    print f, \" : cound not load data file after skipping 9 rows\"\n",
      "                    print \n",
      "                pass\n",
      "        \n",
      "        try:\n",
      "            Tval0 = float(f.split('T')[1].split('dt')[0])\n",
      "            Tval = Tvaldict[ Tval0 ]\n",
      "        except Exception as e:\n",
      "            print \"\\n\\n problems:\"\n",
      "            print f, \" : could not extract Tval\" \n",
      "            raise e\n",
      "        \n",
      "        if Tval == 0.50 and Uval == 14.:\n",
      "            dat = None\n",
      "            \n",
      "        # Some reference data will be used to get rid of outlier\n",
      "        # points in some of the lowset T data \n",
      "        refdat = None\n",
      "        if Uval == 8. and Tval == 0.370:\n",
      "            try:\n",
      "                refname = '../QMC_Final/U{:02d}/'.format(int(Uval)) + 'T0.385.dat'\n",
      "                refdat = np.loadtxt( refname )\n",
      "            except:\n",
      "                refdat = None\n",
      "                \n",
      "            if dat is not None and refdat is not None:\n",
      "                print \"\\n...Cleaning up U={:0.2f}, T={:0.2f}\".format(Uval,Tval)\n",
      "                spicond   =  np.abs( refdat[:,3] - dat[:,3])  > 0.27\n",
      "                denscond1 =  np.logical_and( dat[:,1] < 0.92 , dat[:,1] > 0.7)\n",
      "                denscond2 =  np.logical_and( dat[:,1] > 1.08 , dat[:,1] < 1.3)\n",
      "                denscond  =  np.logical_or( denscond1, denscond2 )\n",
      "                l0 =  len( dat[:,3] ) \n",
      "                dat = dat[  np.where( ~np.logical_and( spicond, denscond) ) ] \n",
      "                l1 =  len( dat[:,3] ) \n",
      "                print \"...removed {:d} points\\n\".format( l0-l1 )\n",
      "                \n",
      "        if Uval == 9. and Tval == 0.40:\n",
      "            try:\n",
      "                refname = '../QMC_Final/U{:02d}/'.format(int(Uval)) + 'T0.500.dat'\n",
      "                refdat = np.loadtxt( refname )\n",
      "            except:\n",
      "                refdat = None\n",
      "                \n",
      "            if dat is not None and refdat is not None:\n",
      "                print \"\\n...Cleaning up U={:0.2f}, T={:0.2f}\".format(Uval,Tval)\n",
      "                spicond   =  np.abs( refdat[:,3] - dat[:,3])  > 0.25\n",
      "                denscond1 =  np.logical_and( dat[:,1] < 0.9 , dat[:,1] > 0.77)\n",
      "                denscond2 =  np.logical_and( dat[:,1] > 1.1 , dat[:,1] < 1.23)\n",
      "                denscond  =  np.logical_or( denscond1, denscond2 )\n",
      "                l0 =  len( dat[:,3] ) \n",
      "                dat = dat[  np.where( ~np.logical_and( spicond, denscond) ) ] \n",
      "                l1 =  len( dat[:,3] ) \n",
      "                print \"...removed {:d} points\\n\".format( l0-l1 )\n",
      "                \n",
      "                \n",
      "                \n",
      "        \n",
      "        if dat is not None:\n",
      "            a = np.empty( (dat.shape[0],8) )   \n",
      "            if dat.shape[1] != 7 :\n",
      "                print \"\\n\\n problems:\"\n",
      "                print f, \" :shape is not 7\"\n",
      "                \n",
      "                # Correct some data that has incorrect columns \n",
      "                if Uval == 2. and (Tval0==0.67 or Tval0==1.0):\n",
      "                    print \"...correcting data table (shape!=7)\"    \n",
      "                    a[:,0] = dat[:,0]   # chemical potential\n",
      "                    a[:,1] = dat[:,1]   # density\n",
      "                    a[:,2] = dat[:,2]   # density err\n",
      "                    a[:,3] = dat[:,3]   # spi/n\n",
      "                    a[:,4] = np.zeros_like(dat[:,0])  # spin/n err\n",
      "                    a[:,5] = dat[:,4]   # sth/n \n",
      "                    a[:,6] = np.zeros_like(dat[:,0])  # sth/n err\n",
      "                    a[:,7] = np.zeros_like(dat[:,0])\n",
      "                    \n",
      "                elif Uval == 8. and (Tval0==0.50 or Tval0==0.67):\n",
      "                    print \"...correcting data table (shape!=7)\"\n",
      "                    # These sets are:  mu dens dens_err spi/n\n",
      "                    a[:,0] = dat[:,0]  # chemical potential\n",
      "                    a[:,1] = dat[:,1]  # density\n",
      "                    a[:,2] = dat[:,2]  # density err \n",
      "                    a[:,3] = dat[:,3]  # spi/n \n",
      "                    a[:,4] = np.zeros_like(dat[:,0])  \n",
      "                    a[:,5] = np.zeros_like(dat[:,0])  \n",
      "                    a[:,6] = np.zeros_like(dat[:,0])  \n",
      "                    a[:,7] = np.zeros_like(dat[:,0])  \n",
      "                    \n",
      "                else:\n",
      "                    print \"...ignored error\" \n",
      "                    a = None\n",
      "                print \n",
      "                \n",
      "                    \n",
      "            # For all other data add empty entropy column\n",
      "            else:\n",
      "                a = np.empty( (dat.shape[0],8) )   \n",
      "                for i in range(7):\n",
      "                    a[:,i] = dat[:,i]\n",
      "                a[:,7] = np.zeros_like( dat[:,0] )\n",
      "                \n",
      "            \n",
      "            if a is not None:\n",
      "                #print a.shape\n",
      "                print \"T={:0.3f}\".format(Tval), \n",
      "                # Here go a head and fix the Spi/n for lower densities such that Spi/n = 1 \n",
      "                a[:,3][  a[:,1] < 0.1 ] = 1.0 \n",
      "                a[:,5][  a[:,1] < 0.1 ] = 1.0 \n",
      "\n",
      "                # Move the chemical potential so that n=1 at mu=U/2 \n",
      "                a[:,0] = a[:,0] + Uval/2. \n",
      "\n",
      "                savedir = '../QMC_Final/U{:02d}/'.format(int(Uval))\n",
      "                if not os.path.exists(savedir):\n",
      "                    os.makedirs(savedir)\n",
      "\n",
      "                np.savetxt(savedir + 'T{:.3f}.dat'.format(Tval), \\\n",
      "                   a, fmt='%.3g' ) \n",
      "                \n",
      "                addto( Uval, Tval, qmcdict_U_SPI)\n",
      "                addto( Tval, Uval, qmcdict_T_SPI)\n",
      "    # END OF SAF DATA\n",
      "    print \n",
      "                \n",
      "            \n",
      "    # DEALING WITH ENTROPY DATA:\n",
      "    print \"Entropy data:\"\n",
      "    fname = datadir + 'U{U:02d}/entropy*dat'.format(U=int(Uval))\n",
      "    fs = sorted(glob.glob(fname))\n",
      "#    if Uval == 8:\n",
      "#        print fs\n",
      "    for i,f in enumerate(fs):       \n",
      "        dat = None\n",
      "        for i in range(10):\n",
      "            try:\n",
      "                dat = np.loadtxt(f, skiprows=i)\n",
      "                break\n",
      "            except:\n",
      "                if i == 9:\n",
      "                    print \"\\n\\n problems:\"\n",
      "                    print f, \" : cound not load data file after skipping 9 rows\"\n",
      "                    print \n",
      "                pass\n",
      "        \n",
      "        \n",
      "        Tval0 = float(f.split('T')[1].split('dt')[0])\n",
      "        Tval = Tvaldict[ Tval0 ]\n",
      "\n",
      "        if dat is not None:\n",
      "            a = np.empty( (dat.shape[0],8) )   \n",
      "            if dat.shape[1] != 4 :\n",
      "                print f, \" :entropy data shape is not 4\"\n",
      "                #print \"Uval={:0.2f}, Tval0={:0.2f}\".format(Uval,Tval0)\n",
      "                \n",
      "                # Correct some data that has incorrect columns \n",
      "                if Uval == 12. and Tval0==1.0:\n",
      "                    print \"...correcting data table (shape!=4)\"    \n",
      "                    a[:,0] = dat[:,0]   # chemical potential\n",
      "                    a[:,1] = dat[:,1]   # density\n",
      "                    a[:,2] = np.zeros_like(dat[:,0])   # density err\n",
      "                    for i in [3,4,5,6]:  # Spi/n  err  Sth/n  err\n",
      "                        a[:,i] = np.zeros_like(dat[:,0])\n",
      "                    a[:,7] = dat[:,2]\n",
      "                else:\n",
      "                    print \"...ignored error\" \n",
      "                    a = None\n",
      "                print \n",
      "                \n",
      "                \n",
      "            # For all other data add empty S columns\n",
      "            else:\n",
      "                a = np.empty( (dat.shape[0],8) )   \n",
      "                for i in [0,1,2]:  # mu  n  n_err\n",
      "                    a[:,i] = dat[:,i]\n",
      "                a[:,7]= dat[:,3]  # entropy\n",
      "                for i in [3,4,5,6]:  # Spi/n  err  Sth/n  err\n",
      "                    a[:,i] = np.zeros_like(dat[:,0])\n",
      "\n",
      "            \n",
      "            if a is not None:\n",
      "                #print a.shape\n",
      "                print \"T={:0.3f}\".format(Tval), \n",
      "                # Move the chemical potential so that n=1 at mu=U/2 \n",
      "                a[:,0] = a[:,0] + Uval/2. \n",
      "\n",
      "                savedir = '../QMC_Final/U{:02d}/'.format(int(Uval))\n",
      "                if not os.path.exists(savedir):\n",
      "                    os.makedirs(savedir)\n",
      "\n",
      "\n",
      "                np.savetxt(savedir + 'S{:.3f}.dat'.format(Tval), \\\n",
      "                   a, fmt='%.3g' ) \n",
      "                \n",
      "                addto( Uval, Tval, qmcdict_U_ENTR)\n",
      "                addto( Tval, Uval, qmcdict_T_ENTR)\n",
      "    # END OF ENTROPY DATA\n",
      "    print \n",
      "        \n",
      "        \n",
      "import pprint \n",
      "\n",
      "print \"FINAL DATA SUMMARY\"\n",
      "print \"==================\"\n",
      "\n",
      "print \"SPI:\"\n",
      "print \n",
      "pprint.pprint( qmcdict_U_SPI)\n",
      "#print \n",
      "#pprint.pprint( qmcdict_T_SPI)\n",
      "\n",
      "print\n",
      "print \"ENTROPY:\"\n",
      "print \n",
      "pprint.pprint( qmcdict_U_ENTR)\n",
      "#print \n",
      "#pprint.pprint( qmcdict_T_ENTR)\n",
      "\n",
      "print \n",
      "print sorted( np.unique( qmcdict_T_SPI.keys() + qmcdict_T_ENTR.keys()) )"
     ],
     "language": "python",
     "metadata": {},
     "outputs": [
      {
       "output_type": "stream",
       "stream": "stdout",
       "text": [
        "\n",
        "U = 1.0\n",
        "Spi data:\n",
        "T=0.370"
       ]
      },
      {
       "output_type": "stream",
       "stream": "stdout",
       "text": [
        " T=0.385 T=0.400 "
       ]
      },
      {
       "output_type": "stream",
       "stream": "stdout",
       "text": [
        "T=0.500 T=0.667 "
       ]
      },
      {
       "output_type": "stream",
       "stream": "stdout",
       "text": [
        "T=1.000\n",
        "Entropy data:\n",
        "T=0.370 "
       ]
      },
      {
       "output_type": "stream",
       "stream": "stdout",
       "text": [
        "T=0.385 T=0.400 T=0.500 "
       ]
      },
      {
       "output_type": "stream",
       "stream": "stdout",
       "text": [
        "T=0.667 "
       ]
      },
      {
       "output_type": "stream",
       "stream": "stdout",
       "text": [
        "T=1.000\n",
        "\n",
        "U = 2.0\n",
        "Spi data:\n",
        "T=0.370 "
       ]
      },
      {
       "output_type": "stream",
       "stream": "stdout",
       "text": [
        "T=0.385 T=0.400 T=0.500 \n",
        "\n",
        " problems:\n",
        "../QMCdatacopy/U02/saf6u2T0.67dt0.05-noerror.dat  :shape is not 7\n",
        "...correcting data table (shape!=7)\n",
        "\n",
        "T=0.667 "
       ]
      },
      {
       "output_type": "stream",
       "stream": "stdout",
       "text": [
        "\n",
        "\n",
        " problems:\n",
        "../QMCdatacopy/U02/saf6u2T1.00dt0.05-noerror.dat  :shape is not 7\n",
        "...correcting data table (shape!=7)\n",
        "\n",
        "T=1.000\n",
        "Entropy data:\n",
        "T=0.370 T=0.385 T=0.400 "
       ]
      },
      {
       "output_type": "stream",
       "stream": "stdout",
       "text": [
        "T=0.500 T=0.667 T=1.000\n",
        "\n",
        "U = 4.0\n",
        "Spi data:\n",
        "T=0.357 T=0.370 T=0.385 "
       ]
      },
      {
       "output_type": "stream",
       "stream": "stdout",
       "text": [
        "T=0.400 T=0.500 "
       ]
      },
      {
       "output_type": "stream",
       "stream": "stdout",
       "text": [
        "T=0.667 "
       ]
      },
      {
       "output_type": "stream",
       "stream": "stdout",
       "text": [
        "T=1.000\n",
        "Entropy data:\n",
        "T=0.370 "
       ]
      },
      {
       "output_type": "stream",
       "stream": "stdout",
       "text": [
        "T=0.385 T=0.400 "
       ]
      },
      {
       "output_type": "stream",
       "stream": "stdout",
       "text": [
        "T=0.500 T=0.667 T=1.000\n",
        "\n",
        "U = 6.0\n",
        "Spi data:\n",
        "T=0.357"
       ]
      },
      {
       "output_type": "stream",
       "stream": "stdout",
       "text": [
        " T=0.370 T=0.385 T=0.400 T=0.500 "
       ]
      },
      {
       "output_type": "stream",
       "stream": "stdout",
       "text": [
        "T=0.667 T=1.000\n",
        "Entropy data:\n",
        "T=0.370 T=0.385 "
       ]
      },
      {
       "output_type": "stream",
       "stream": "stdout",
       "text": [
        "T=0.400 T=0.500 T=0.667 T=1.000\n",
        "\n",
        "U = 7.0\n",
        "Spi data:\n",
        "T=0.400"
       ]
      },
      {
       "output_type": "stream",
       "stream": "stdout",
       "text": [
        " T=0.500 T=0.667 T=1.000\n",
        "Entropy data:\n",
        "T=0.370 T=0.385 T=0.400 "
       ]
      },
      {
       "output_type": "stream",
       "stream": "stdout",
       "text": [
        "T=0.500 "
       ]
      },
      {
       "output_type": "stream",
       "stream": "stdout",
       "text": [
        "T=0.667 T=1.000\n",
        "\n",
        "U = 8.0\n",
        "Spi data:\n",
        "\n",
        "...Cleaning up U=8.00, T=0.37"
       ]
      },
      {
       "output_type": "stream",
       "stream": "stdout",
       "text": [
        "\n",
        "...removed 10 points\n",
        "\n",
        "T=0.370 T=0.385 "
       ]
      },
      {
       "output_type": "stream",
       "stream": "stdout",
       "text": [
        "T=0.400 \n",
        "\n",
        " problems:\n",
        "../QMCdatacopy/U08/saf6u8T0.50dt0.05.dat  :shape is not 7\n",
        "...correcting data table (shape!=7)\n",
        "\n",
        "T=0.500 \n",
        "\n",
        " problems:\n",
        "../QMCdatacopy/U08/saf6u8T0.67dt0.05.dat  :shape is not 7\n",
        "...correcting data table (shape!=7)\n",
        "\n",
        "T=0.667 "
       ]
      },
      {
       "output_type": "stream",
       "stream": "stdout",
       "text": [
        "T=1.000\n",
        "Entropy data:\n",
        "T=0.385 T=0.400 T=0.500 T=0.667 "
       ]
      },
      {
       "output_type": "stream",
       "stream": "stdout",
       "text": [
        "T=1.000\n",
        "\n",
        "U = 9.0\n",
        "Spi data:\n",
        "\n",
        "...Cleaning up U=9.00, T=0.40\n",
        "...removed 5 points\n",
        "\n",
        "T=0.400 T=0.500 "
       ]
      },
      {
       "output_type": "stream",
       "stream": "stdout",
       "text": [
        "T=0.667 "
       ]
      },
      {
       "output_type": "stream",
       "stream": "stdout",
       "text": [
        "T=1.000\n",
        "Entropy data:\n",
        "T=0.400 T=0.500 T=0.667 T=1.000\n",
        "\n",
        "U = 10.0\n",
        "Spi data:\n",
        "T=0.500 T=0.667\n",
        "Entropy data:\n",
        "T=0.500 T=0.667\n",
        "\n",
        "U = 12.0\n",
        "Spi data:\n",
        "\n",
        "Entropy data:\n",
        "../QMCdatacopy/U12/entropy6u12T1.00dt0.05.dat"
       ]
      },
      {
       "output_type": "stream",
       "stream": "stdout",
       "text": [
        "  :entropy data shape is not 4\n",
        "...correcting data table (shape!=4)\n",
        "\n",
        "T=1.000\n",
        "\n",
        "U = 14.0\n",
        "Spi data:\n",
        "\n"
       ]
      },
      {
       "output_type": "stream",
       "stream": "stdout",
       "text": [
        "Entropy data:\n",
        "T=0.500 "
       ]
      },
      {
       "output_type": "stream",
       "stream": "stdout",
       "text": [
        "T=0.667\n",
        "\n",
        "U = 16.0\n",
        "Spi data:\n",
        "\n",
        "Entropy data:\n",
        "\n",
        "FINAL DATA SUMMARY\n",
        "==================\n",
        "SPI:\n",
        "\n",
        "{1.0: [0.37, 0.385, 0.4, 0.5, 0.667, 1.0],\n",
        " 2.0: [0.37, 0.385, 0.4, 0.5, 0.667, 1.0],\n",
        " 4.0: [0.357, 0.37, 0.385, 0.4, 0.5, 0.667, 1.0],\n",
        " 6.0: [0.357, 0.37, 0.385, 0.4, 0.5, 0.667, 1.0],\n",
        " 7.0: [0.4, 0.5, 0.667, 1.0],\n",
        " 8.0: [0.37, 0.385, 0.4, 0.5, 0.667, 1.0],\n",
        " 9.0: [0.4, 0.5, 0.667, 1.0],\n",
        " 10.0: [0.5, 0.667]}\n",
        "\n",
        "ENTROPY:\n",
        "\n",
        "{1.0: [0.37, 0.385, 0.4, 0.5, 0.667, 1.0],\n",
        " 2.0: [0.37, 0.385, 0.4, 0.5, 0.667, 1.0],\n",
        " 4.0: [0.37, 0.385, 0.4, 0.5, 0.667, 1.0],\n",
        " 6.0: [0.37, 0.385, 0.4, 0.5, 0.667, 1.0],\n",
        " 7.0: [0.37, 0.385, 0.4, 0.5, 0.667, 1.0],\n",
        " 8.0: [0.385, 0.4, 0.5, 0.667, 1.0],\n",
        " 9.0: [0.4, 0.5, 0.667, 1.0],\n",
        " 10.0: [0.5, 0.667],\n",
        " 12.0: [1.0],\n",
        " 14.0: [0.5, 0.667]}\n",
        "\n",
        "[0.35699999999999998, 0.37, 0.38500000000000001, 0.40000000000000002, 0.5, 0.66700000000000004, 1.0]\n"
       ]
      }
     ],
     "prompt_number": 1
    },
    {
     "cell_type": "markdown",
     "metadata": {},
     "source": [
      "# CELL 2 \n",
      "\n",
      "## All QMC data in single plot"
     ]
    },
    {
     "cell_type": "code",
     "collapsed": false,
     "input": [
      "from matplotlib import rc\n",
      "rc('font', **{'family':'serif'})\n",
      "rc('text', usetex=True)\n",
      "\n",
      "import sys\n",
      "sys.path.append('../')\n",
      "\n",
      "# data columns \n",
      "MUCOL = 0\n",
      "DENSCOL = 1\n",
      "SPInCOL = 3\n",
      "ENTRCOL = 7\n",
      "\n",
      "gs = matplotlib.gridspec.GridSpec(3,4,\\\n",
      "      wspace=0.05, hspace=0.05,\\\n",
      "      left=0.06, right=0.99, bottom=0.12, top=0.96)\n",
      "\n",
      "xs = 7.2; ys=4.5\n",
      "fign = plt.figure( figsize(xs,ys))\n",
      "figSn = plt.figure( figsize(xs,ys))\n",
      "figSnn = plt.figure( figsize(xs,ys))\n",
      "figEntr = plt.figure( figsize(xs,ys))\n",
      "\n",
      "from colorChooser import rgb_to_hex, cmapCycle\n",
      "\n",
      "#qmcdictU = qmcdict_U_SPI\n",
      "#qmcdictT = qmcdict_T_SPI\n",
      "\n",
      "Uvals = sorted( np.unique( qmcdict_U_SPI.keys() + qmcdict_U_ENTR.keys()))\n",
      "for i,Uval in enumerate( Uvals ):\n",
      "\n",
      "    axn = fign.add_subplot( gs[i])\n",
      "    axSn= figSn.add_subplot( gs[i] )\n",
      "    axSnn = figSnn.add_subplot( gs[i] )\n",
      "    axEntr = figEntr.add_subplot( gs[i] )\n",
      "    \n",
      "    Tvals = sorted( np.unique( qmcdict_T_SPI.keys() + qmcdict_T_ENTR.keys()) )\n",
      "    for j, Tval in enumerate(Tvals):\n",
      "    \n",
      "        color = cmapCycle( matplotlib.cm.spectral, float(j), lbound=0, ubound=float(len(Tvals)+0))\n",
      "        if Uval in qmcdict_U_SPI.keys():\n",
      "            if Tval in qmcdict_U_SPI[Uval]:\n",
      "                # get QMC data\n",
      "                fname =  '../QMC_Final/'+ 'U{U:02d}/T{T:0.3f}.dat'.format(U=int(Uval),T=Tval)\n",
      "                dat = np.loadtxt(fname)\n",
      "\n",
      "\n",
      "                for ax,COL in [(axn,DENSCOL), (axSn,SPInCOL)  ]:\n",
      "                    ax.plot( dat[:,MUCOL], dat[:,COL], color=color, label='${:0.3f}$'.format(Tval))\n",
      "                axSnn.plot( dat[:,DENSCOL], dat[:,SPInCOL], color=color, label='${:0.3f}$'.format(Tval))\n",
      "        \n",
      "        if Uval in qmcdict_U_ENTR.keys():\n",
      "            if Tval in qmcdict_U_ENTR[Uval]:\n",
      "                # get ENTROPY data\n",
      "                fname =  '../QMC_Final/'+ 'U{U:02d}/S{T:0.3f}.dat'.format(U=int(Uval),T=Tval)\n",
      "                dat = np.loadtxt(fname)\n",
      "\n",
      "                for ax,COL in [(axEntr,ENTRCOL)]:\n",
      "                    ax.plot( dat[:,MUCOL], dat[:,COL], color=color, label='${:0.3f}$'.format(Tval))\n",
      "\n",
      "            \n",
      "\n",
      "    axn.legend(title='$T/t$',bbox_to_anchor=(0.95,-0.02), loc='lower right', numpoints=1, \\\n",
      "           prop={'size':6}, handlelength=1.1, handletextpad=0.5)\n",
      "    axSn.legend(title='$T/t$',bbox_to_anchor=(0.95,0.99), loc='upper right', numpoints=1, \\\n",
      "           prop={'size':6}, handlelength=1.1, handletextpad=0.5)\n",
      "    axSnn.legend(title='$T/t$',bbox_to_anchor=(0.95,1.05), loc='upper right', numpoints=1, \\\n",
      "           prop={'size':6}, handlelength=1.1, handletextpad=0.5)\n",
      "    axEntr.legend(title='$T/t$',bbox_to_anchor=(0.95,1.05), loc='upper right', numpoints=1, \\\n",
      "           prop={'size':6}, handlelength=1.1, handletextpad=0.5)\n",
      "\n",
      "    axn.set_ylim(-0.2, 2.2) \n",
      "    axSn.set_ylim(-0.2,12.0)\n",
      "    axSnn.set_ylim(-0.2,12.0)\n",
      "    axEntr.set_ylim( 0., 1.2 )\n",
      "\n",
      "    if i != 0 and i != 4 and i != 8 :\n",
      "            axn.yaxis.set_ticklabels([])\n",
      "            axSn.yaxis.set_ticklabels([])\n",
      "            axSnn.yaxis.set_ticklabels([])\n",
      "            axEntr.yaxis.set_ticklabels([])\n",
      "    else:\n",
      "        axn.set_ylabel('$n$', rotation=0,labelpad=11)\n",
      "        axSn.set_ylabel(r'$\\frac{S_{\\pi}}{n}$', rotation=0,labelpad=11, fontsize=14)\n",
      "        axSnn.set_ylabel(r'$\\frac{S_{\\pi}}{n}$', rotation=0,labelpad=11, fontsize=14)\n",
      "        axEntr.set_ylabel(r'$s$', rotation=0,labelpad=11, fontsize=14)\n",
      "        \n",
      "    if i in range(6):\n",
      "        axn.xaxis.set_ticklabels([])\n",
      "        axSn.xaxis.set_ticklabels([])\n",
      "        axSnn.xaxis.set_ticklabels([])\n",
      "        axEntr.xaxis.set_ticklabels([])\n",
      "    else:\n",
      "        axn.set_xlabel(r'$\\mu/t$',labelpad=-1)\n",
      "        axSn.set_xlabel(r'$\\mu/t$',labelpad=-1)\n",
      "        axSnn.set_xlabel(r'$n$',labelpad=-1)\n",
      "        axEntr.set_xlabel(r'$\\mu/t$',labelpad=-1)\n",
      "\n",
      "    axn.set_xlim(-10.,24)\n",
      "    axSn.set_xlim(-10.,24)\n",
      "    axSnn.set_xlim(0.,2.)\n",
      "    axEntr.set_xlim(-10., 24.)\n",
      "    \n",
      "    for ax in [axn, axSn, axSnn, axEntr]:\n",
      "        ax.grid(alpha=0.4)\n",
      "        ax.xaxis.set_major_locator( matplotlib.ticker.MaxNLocator(6, prune='lower'))\n",
      "        ax.text( 0.01, 1.0, '$U/t={:d}$'.format(int(Uval)), \\\n",
      "                 ha='left', va='top', transform=ax.transAxes,\n",
      "                 bbox={'boxstyle':'round','facecolor':'white'})\n",
      "\n",
      "\n",
      "name = [\\\n",
      "        r'$\\mathrm{Density}$',\\\n",
      "        r'$\\mathrm{AFM\\ } S_{\\pi}\\ \\mathrm{per\\ particle}$',\\\n",
      "        r'$\\mathrm{AFM\\ } S_{\\pi}\\ \\mathrm{per\\ particle}$',\\\n",
      "        r'$\\mathrm{Entropy}$',\\\n",
      "        ]\n",
      "for j,fig in enumerate([fign, figSn, figSnn, figEntr]):\n",
      "    fig.text(0.72, 0.22, name[j], fontsize=18, \\\n",
      "             ha='center', va='center', linespacing=1.6)\n",
      "fign.savefig('QMC_Final/density_All.png'.format(Tval), dpi=300)\n",
      "plt.close(fign)\n",
      "figSn.savefig('QMC_Final/spi_n_All.png'.format(Tval), dpi=300)\n",
      "plt.close(figSn)\n",
      "figSnn.savefig('QMC_Final/spi_n_n_All.png'.format(Tval), dpi=300)\n",
      "plt.close(figSnn)\n",
      "figEntr.savefig('QMC_Final/entropy_All.png'.format(Tval), dpi=300)\n",
      "plt.close(figEntr)\n"
     ],
     "language": "python",
     "metadata": {},
     "outputs": [
      {
       "output_type": "stream",
       "stream": "stderr",
       "text": [
        "/usr/local/lib/python2.7/dist-packages/matplotlib-1.3.1-py2.7-linux-i686.egg/matplotlib/axes.py:4747: UserWarning: No labeled objects found. Use label='...' kwarg on individual plots.\n",
        "  warnings.warn(\"No labeled objects found. \"\n"
       ]
      }
     ],
     "prompt_number": 2
    },
    {
     "cell_type": "markdown",
     "metadata": {},
     "source": [
      "# CELL 3\n",
      "\n",
      "## Save the Spi and Entropy QMC data in the final destination folders,  COMB_Final_Spi and COMB_Final_Entr"
     ]
    },
    {
     "cell_type": "code",
     "collapsed": false,
     "input": [
      "\n",
      "# Save the SPI data\n",
      "for Uval in qmcdict_U_SPI.keys():\n",
      "    for Tval in qmcdict_U_SPI[ Uval ]:\n",
      "        fname = '../QMC_Final/U{:02d}/T{:.3f}.dat'.format(int(Uval),Tval)\n",
      "        dat = np.loadtxt(fname)\n",
      "        \n",
      "        # The SPI data will be reduced in the number of \n",
      "        a = np.empty( (dat.shape[0], 4))\n",
      "        a[:,0] = dat[:,0] # chemical potential\n",
      "        a[:,1] = dat[:,1] # density\n",
      "        a[:,2] = np.zeros_like( dat[:,0]) # entropy\n",
      "        a[:,3] = dat[:,3]\n",
      "        \n",
      "        savedir = '../COMB_Final_Spi/U{:02d}/'.format(int(Uval))\n",
      "        if not os.path.exists(savedir):\n",
      "            os.makedirs(savedir)\n",
      "        fnameout = savedir + 'T{:.3f}.dat'.format(Tval)\n",
      "        np.savetxt( fnameout, a, fmt='%.3g')\n",
      "        #print Uval, Tval, fname \n",
      "        \n",
      "# Save the ENTR data\n",
      "for Uval in qmcdict_U_ENTR.keys():\n",
      "    for Tval in qmcdict_U_ENTR[ Uval ]:\n",
      "        fname = '../QMC_Final/U{:02d}/S{:.3f}.dat'.format(int(Uval),Tval)\n",
      "        dat = np.loadtxt(fname)\n",
      "        \n",
      "        # The SPI data will be reduced in the number of \n",
      "        a = np.empty( (dat.shape[0], 4))\n",
      "        a[:,0] = dat[:,0] # chemical potential\n",
      "        a[:,1] = dat[:,1] # density\n",
      "        a[:,2] = dat[:,7] # entropy\n",
      "        a[:,3] = np.zeros_like( dat[:,0] )\n",
      "        \n",
      "        savedir = '../COMB_Final_Entr/U{:02d}/'.format(int(Uval))\n",
      "        if not os.path.exists(savedir):\n",
      "            os.makedirs(savedir)\n",
      "        fnameout = savedir + 'S{:.3f}.dat'.format(Tval)\n",
      "        np.savetxt( fnameout, a, fmt='%.3g')\n",
      "        #print Uval, Tval, fname \n",
      "        "
     ],
     "language": "python",
     "metadata": {},
     "outputs": [],
     "prompt_number": 3
    },
    {
     "cell_type": "markdown",
     "metadata": {},
     "source": [
      "# EXAMPLES\n",
      "\n",
      "## Test the function that allows to obtain the Spi, Sth data from Thereza, via interoplation"
     ]
    },
    {
     "cell_type": "code",
     "collapsed": false,
     "input": [
      "import sys \n",
      "sys.path.append('../')\n",
      "import qmc\n",
      "\n",
      "print qmc.find_closest_qmc( U=7.64, T=0.90, mu=3.82, showinterp=False)\n",
      "print qmc.find_closest_qmc( U=7.64, T=0.90, mu=3.82, showinterp=False, QTY='entropy')\n",
      "\n",
      "#print qmc.find_closest_qmc( U=7.42, T=0.65, mu=3.28, showinterp=True, single=True, ALLPTS=True, save_err='interp/allpts.png')\n",
      "#print qmc.find_closest_qmc( U=7.42, T=0.65, mu=3.28, showinterp=True, single=True, ALLPTS=False, save_err='interp/closepts.png')"
     ],
     "language": "python",
     "metadata": {},
     "outputs": [
      {
       "output_type": "stream",
       "stream": "stdout",
       "text": [
        "1.58449537538\n",
        "0.73816554955\n"
       ]
      }
     ],
     "prompt_number": 5
    },
    {
     "cell_type": "code",
     "collapsed": false,
     "input": [
      "# Save all interpolation QMC data points in a figure\n",
      "\n",
      "import sys \n",
      "sys.path.append('../')\n",
      "import qmc\n",
      "qmc.find_closest_qmc( U=7.64, T=0.90, mu=3.82, showinterp=True, single=True, ALLPTS=True, savepath='interp/allpts.png')\n"
     ],
     "language": "python",
     "metadata": {},
     "outputs": [
      {
       "output_type": "stream",
       "stream": "stdout",
       "text": [
        "Interp points:\n",
        "[[  7.       1.       1.34  ]\n",
        " [  7.       0.667    1.924 ]\n",
        " [  7.       0.5      2.862 ]\n",
        " [  7.       0.4      5.668 ]\n",
        " [  9.       1.       1.47  ]\n",
        " [  9.       0.667    2.254 ]\n",
        " [  9.       0.5      3.52  ]\n",
        " [  9.       0.4      7.236 ]\n",
        " [  6.       1.       1.135 ]\n",
        " [  6.       0.667    1.444 ]\n",
        " [  6.       0.5      1.838 ]\n",
        " [  6.       0.4      2.47  ]\n",
        " [  6.       0.385    2.551 ]\n",
        " [  6.       0.37     2.652 ]\n",
        " [  6.       0.357    2.937 ]\n",
        " [ 10.       0.667    2.097 ]\n",
        " [ 10.       0.5      3.293 ]\n",
        " [  4.       1.       0.6957]\n",
        " [  4.       0.667    0.7135]\n",
        " [  4.       0.5      0.7167]\n",
        " [  4.       0.4      0.7133]\n",
        " [  4.       0.385    0.7126]\n",
        " [  4.       0.37     0.7163]\n",
        " [  4.       0.357    0.7106]\n",
        " [  2.       1.       0.3259]\n",
        " [  2.       0.667    0.2948]\n",
        " [  2.       0.5      0.2788]\n",
        " [  2.       0.4      0.2698]\n",
        " [  2.       0.385    0.2679]\n",
        " [  2.       0.37     0.2669]\n",
        " [  1.       1.       0.2042]\n",
        " [  1.       0.667    0.1738]\n",
        " [  1.       0.5      0.1604]\n",
        " [  1.       0.4      0.154 ]\n",
        " [  1.       0.385    0.153 ]\n",
        " [  1.       0.37     0.152 ]]\n"
       ]
      },
      {
       "metadata": {},
       "output_type": "display_data",
       "png": "[encoded data removed]",
       "text": [
        "<matplotlib.figure.Figure at 0x9990b0c>"
       ]
      },
      {
       "metadata": {},
       "output_type": "pyout",
       "prompt_number": 1,
       "text": [
        "array(1.5569753753753752)"
       ]
      }
     ],
     "prompt_number": 1
    },
    {
     "cell_type": "code",
     "collapsed": false,
     "input": [
      "%%timeit \n",
      "        \n",
      "qmc.find_closest_qmc(U=8.2, T=0.75, mu=4.1 )"
     ],
     "language": "python",
     "metadata": {},
     "outputs": [
      {
       "output_type": "stream",
       "stream": "stdout",
       "text": [
        "100 loops, best of 3: 15.9 ms per loop\n"
       ]
      }
     ],
     "prompt_number": 2
    },
    {
     "cell_type": "markdown",
     "metadata": {},
     "source": [
      "## Debugging a bad entropy-search result "
     ]
    },
    {
     "cell_type": "code",
     "collapsed": false,
     "input": [
      "import sys \n",
      "sys.path.append('../')\n",
      "\n",
      "import qmc\n",
      "\n",
      "#print qmc.find_closest_qmc( U=3.16, T=0.402, mu=-10.391, showinterp=True, QTY='entropy', single=True)\n",
      "print qmc.find_closest_qmc( U=8.74, T=0.388, mu=-0.711, showinterp=True, single=True)"
     ],
     "language": "python",
     "metadata": {},
     "outputs": [
      {
       "output_type": "stream",
       "stream": "stdout",
       "text": [
        "Interp points:\n",
        "[[  9.        0.4       1.1278 ]\n",
        " [  9.        0.5       1.10945]\n",
        " [  9.        0.588     1.     ]\n",
        " [  8.        0.4       1.11335]\n",
        " [  8.        0.385     1.11445]\n",
        " [  8.        0.37      1.1189 ]\n",
        " [ 10.        0.4       1.     ]\n",
        " [ 10.        0.5       1.10445]\n",
        " [ 10.        0.667     1.1089 ]\n",
        " [  7.        0.4       1.11945]\n",
        " [  7.        0.36      1.     ]\n",
        " [  7.        0.357     1.12523]]\n"
       ]
      },
      {
       "metadata": {},
       "output_type": "display_data",
       "png": "[encoded data removed]",
       "text": [
        "<matplotlib.figure.Figure at 0xc4476ec>"
       ]
      },
      {
       "output_type": "stream",
       "stream": "stdout",
       "text": [
        "1.106348\n"
       ]
      }
     ],
     "prompt_number": 4
    },
    {
     "cell_type": "code",
     "collapsed": false,
     "input": [],
     "language": "python",
     "metadata": {},
     "outputs": []
    }
   ],
   "metadata": {}
  }
 ]
}