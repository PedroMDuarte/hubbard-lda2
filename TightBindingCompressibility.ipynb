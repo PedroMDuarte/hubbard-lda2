{
 "metadata": {
  "name": "",
  "signature": "sha256:6f8b82196dded9bd936b615700d1c3b419192d6f30cc7cdd7ba8349c7dd09342"
 },
 "nbformat": 3,
 "nbformat_minor": 0,
 "worksheets": [
  {
   "cells": [
    {
     "cell_type": "markdown",
     "metadata": {},
     "source": [
      "## Calculate density of states in 3D tight-binding model \n",
      "\n",
      "http://www.itp.phys.ethz.ch/education/fs13/sst/sol06.pdf"
     ]
    },
    {
     "cell_type": "markdown",
     "metadata": {},
     "source": [
      "### Python code "
     ]
    },
    {
     "cell_type": "code",
     "collapsed": false,
     "input": [
      "def tb_dos( dim, e, n, d):\n",
      "    \"\"\"\n",
      "    Gets the density of states in dim dimensions for energy e,\n",
      "    using n lattice points and width d for the delta function. \n",
      "    \"\"\" \n",
      "    qpoints = np.arange( 0, np.pi, 2.*np.pi/n)\n",
      "    \n",
      "    s=0\n",
      "    if dim == 1 :\n",
      "        for kx in qpoints:\n",
      "            s = s +  d/( np.pi*( (e+np.cos(kx))**2. + d**2.))\n",
      "    elif dim == 2 :\n",
      "        for kx in qpoints:\n",
      "            for ky in qpoints:\n",
      "                s = s +  d/( np.pi*( (e+np.cos(kx)+np.cos(ky))**2. + d**2.))\n",
      "    elif dim == 3 :\n",
      "        for kx in qpoints:\n",
      "            for ky in qpoints:\n",
      "                for kz in qpoints:\n",
      "                    s = s +  d/( np.pi*( (e+np.cos(kx)+np.cos(ky)+np.cos(kz))**2. + d**2.))\n",
      "    return 2.*s/(n/2.)**dim\n",
      "                "
     ],
     "language": "python",
     "metadata": {},
     "outputs": [],
     "prompt_number": 1
    },
    {
     "cell_type": "code",
     "collapsed": false,
     "input": [
      "tb_dos( 3, 0.5, 100, 0.01)"
     ],
     "language": "python",
     "metadata": {},
     "outputs": [
      {
       "metadata": {},
       "output_type": "pyout",
       "prompt_number": 2,
       "text": [
        "0.56412393586771847"
       ]
      }
     ],
     "prompt_number": 2
    },
    {
     "cell_type": "markdown",
     "metadata": {},
     "source": [
      "### Fortran code"
     ]
    },
    {
     "cell_type": "code",
     "collapsed": false,
     "input": [
      "%%file tbdos.f\n",
      "c File tbdos.f\n",
      "       subroutine tbdos(dos,e, n, d)\n",
      "       double precision e\n",
      "       integer n\n",
      "       double precision d \n",
      "       double precision dos\n",
      "       double precision ki  \n",
      "       double precision kj\n",
      "       double precision kk\n",
      "       double precision ee \n",
      "cf2py  intent(in) :: e\n",
      "cf2py  intent(in) :: n\n",
      "cf2py  intent(in) :: d\n",
      "cf2py  intent(out) :: dos\n",
      "       parameter (PI=4.D0*DATAN(1.D0))\n",
      "\n",
      "       dos = 0 \n",
      "       do 10 i=0, n/2 + MOD(n,2) -1 \n",
      "           do 20 j=0, n/2 + MOD(n,2) -1 \n",
      "               do 30 k=0, n/2 + MOD(n,2) -1\n",
      "                   ki = 2.*PI / n * i\n",
      "                   kj = 2.*PI / n * j\n",
      "                   kk = 2.*PI / n * k\n",
      "                   ee = (e + DCOS(ki) + DCOS(kj) + DCOS(kk))**2.\n",
      "                   dos = dos + d / (PI * ( ee + d**2. ))\n",
      "c                    d/( np.pi*( (e+np.cos(kx)+np.cos(ky)+np.cos(kz))**2. + d**2.))\n",
      "30             continue\n",
      "20         continue\n",
      "10     continue\n",
      "       dos = 2.*dos / (n/2.)**3\n",
      "       end"
     ],
     "language": "python",
     "metadata": {},
     "outputs": [
      {
       "output_type": "stream",
       "stream": "stdout",
       "text": [
        "Overwriting tbdos.f\n"
       ]
      }
     ],
     "prompt_number": 3
    },
    {
     "cell_type": "code",
     "collapsed": false,
     "input": [
      "!f2py -c tbdos.f -m tbdos"
     ],
     "language": "python",
     "metadata": {},
     "outputs": [
      {
       "output_type": "stream",
       "stream": "stdout",
       "text": [
        "\u001b[39mrunning build\u001b[0m\r\n",
        "\u001b[39mrunning config_cc\u001b[0m\r\n",
        "\u001b[39munifing config_cc, config, build_clib, build_ext, build commands --compiler options\u001b[0m\r\n",
        "\u001b[39mrunning config_fc\u001b[0m\r\n",
        "\u001b[39munifing config_fc, config, build_clib, build_ext, build commands --fcompiler options\u001b[0m\r\n",
        "\u001b[39mrunning build_src\u001b[0m\r\n",
        "\u001b[39mbuild_src\u001b[0m\r\n",
        "\u001b[39mbuilding extension \"tbdos\" sources\u001b[0m\r\n",
        "\u001b[39mf2py options: []\u001b[0m\r\n",
        "\u001b[39mf2py:> /tmp/tmpuvgeRl/src.linux-i686-2.7/tbdosmodule.c\u001b[0m\r\n",
        "\u001b[39mcreating /tmp/tmpuvgeRl\u001b[0m\r\n",
        "\u001b[39mcreating /tmp/tmpuvgeRl/src.linux-i686-2.7\u001b[0m\r\n"
       ]
      },
      {
       "output_type": "stream",
       "stream": "stdout",
       "text": [
        "Reading fortran codes...\r\n",
        "\tReading file 'tbdos.f' (format:fix,strict)\r\n",
        "Line #16 in tbdos.f:\"       parameter (PI=4.D0*DATAN(1.D0))\"\r\n",
        "\tdetermineexprtype: could not determine expressions ('4.d0*datan(1.d0)') type.\r\n",
        "analyzeline: Failed to evaluate '4.d0*datan(1.d0)'. Ignoring: invalid syntax (<string>, line 1)\r\n",
        "Post-processing...\r\n",
        "\tBlock: tbdos\r\n",
        "\t\t\tBlock: tbdos\r\n",
        "Post-processing (stage 2)...\r\n",
        "Building modules...\r\n",
        "\tBuilding module \"tbdos\"...\r\n",
        "\t\tConstructing wrapper function \"tbdos\"...\r\n"
       ]
      },
      {
       "output_type": "stream",
       "stream": "stdout",
       "text": [
        "\t\t  dos = tbdos(e,n,d)\r\n",
        "\tWrote C/API module \"tbdos\" to file \"/tmp/tmpuvgeRl/src.linux-i686-2.7/tbdosmodule.c\"\r\n",
        "\u001b[39m  adding '/tmp/tmpuvgeRl/src.linux-i686-2.7/fortranobject.c' to sources.\u001b[0m\r\n",
        "\u001b[39m  adding '/tmp/tmpuvgeRl/src.linux-i686-2.7' to include_dirs.\u001b[0m\r\n",
        "\u001b[39mcopying /usr/lib/python2.7/dist-packages/numpy/f2py/src/fortranobject.c -> /tmp/tmpuvgeRl/src.linux-i686-2.7\u001b[0m\r\n",
        "\u001b[39mcopying /usr/lib/python2.7/dist-packages/numpy/f2py/src/fortranobject.h -> /tmp/tmpuvgeRl/src.linux-i686-2.7\u001b[0m\r\n",
        "\u001b[39mbuild_src: building npy-pkg config files\u001b[0m\r\n",
        "\u001b[39mrunning build_ext\u001b[0m\r\n",
        "\u001b[39mcustomize UnixCCompiler\u001b[0m\r\n",
        "\u001b[39mcustomize UnixCCompiler using build_ext\u001b[0m\r\n",
        "\u001b[39mcustomize Gnu95FCompiler\u001b[0m\r\n",
        "\u001b[32mFound executable /usr/bin/gfortran\u001b[0m\r\n"
       ]
      },
      {
       "output_type": "stream",
       "stream": "stdout",
       "text": [
        "\u001b[39mcustomize Gnu95FCompiler\u001b[0m\r\n",
        "\u001b[39mcustomize Gnu95FCompiler using build_ext\u001b[0m\r\n",
        "\u001b[39mbuilding 'tbdos' extension\u001b[0m\r\n",
        "\u001b[39mcompiling C sources\u001b[0m\r\n",
        "\u001b[39mC compiler: i686-linux-gnu-gcc -pthread -fno-strict-aliasing -DNDEBUG -g -fwrapv -O2 -Wall -Wstrict-prototypes -fPIC\r\n",
        "\u001b[0m\r\n",
        "\u001b[39mcreating /tmp/tmpuvgeRl/tmp\u001b[0m\r\n",
        "\u001b[39mcreating /tmp/tmpuvgeRl/tmp/tmpuvgeRl\u001b[0m\r\n",
        "\u001b[39mcreating /tmp/tmpuvgeRl/tmp/tmpuvgeRl/src.linux-i686-2.7\u001b[0m\r\n",
        "\u001b[39mcompile options: '-I/tmp/tmpuvgeRl/src.linux-i686-2.7 -I/usr/lib/python2.7/dist-packages/numpy/core/include -I/usr/include/python2.7 -c'\u001b[0m\r\n",
        "\u001b[39mi686-linux-gnu-gcc: /tmp/tmpuvgeRl/src.linux-i686-2.7/tbdosmodule.c\u001b[0m\r\n"
       ]
      },
      {
       "output_type": "stream",
       "stream": "stdout",
       "text": [
        "In file included from /usr/lib/python2.7/dist-packages/numpy/core/include/numpy/ndarraytypes.h:1728:0,\r\n",
        "                 from /usr/lib/python2.7/dist-packages/numpy/core/include/numpy/ndarrayobject.h:17,\r\n",
        "                 from /usr/lib/python2.7/dist-packages/numpy/core/include/numpy/arrayobject.h:15,\r\n",
        "                 from /tmp/tmpuvgeRl/src.linux-i686-2.7/fortranobject.h:13,\r\n",
        "                 from /tmp/tmpuvgeRl/src.linux-i686-2.7/tbdosmodule.c:17:\r\n",
        "/usr/lib/python2.7/dist-packages/numpy/core/include/numpy/npy_deprecated_api.h:11:2: warning: #warning \"Using deprecated NumPy API, disable it by #defining NPY_NO_DEPRECATED_API NPY_1_7_API_VERSION\" [-Wcpp]\r\n",
        " #warning \"Using deprecated NumPy API, disable it by #defining NPY_NO_DEPRECATED_API NPY_1_7_API_VERSION\"\r\n",
        "  ^\r\n"
       ]
      },
      {
       "output_type": "stream",
       "stream": "stdout",
       "text": [
        "\u001b[39mi686-linux-gnu-gcc: /tmp/tmpuvgeRl/src.linux-i686-2.7/fortranobject.c\u001b[0m\r\n"
       ]
      },
      {
       "output_type": "stream",
       "stream": "stdout",
       "text": [
        "In file included from /usr/lib/python2.7/dist-packages/numpy/core/include/numpy/ndarraytypes.h:1728:0,\r\n",
        "                 from /usr/lib/python2.7/dist-packages/numpy/core/include/numpy/ndarrayobject.h:17,\r\n",
        "                 from /usr/lib/python2.7/dist-packages/numpy/core/include/numpy/arrayobject.h:15,\r\n",
        "                 from /tmp/tmpuvgeRl/src.linux-i686-2.7/fortranobject.h:13,\r\n",
        "                 from /tmp/tmpuvgeRl/src.linux-i686-2.7/fortranobject.c:2:\r\n",
        "/usr/lib/python2.7/dist-packages/numpy/core/include/numpy/npy_deprecated_api.h:11:2: warning: #warning \"Using deprecated NumPy API, disable it by #defining NPY_NO_DEPRECATED_API NPY_1_7_API_VERSION\" [-Wcpp]\r\n",
        " #warning \"Using deprecated NumPy API, disable it by #defining NPY_NO_DEPRECATED_API NPY_1_7_API_VERSION\"\r\n",
        "  ^\r\n"
       ]
      },
      {
       "output_type": "stream",
       "stream": "stdout",
       "text": [
        "\u001b[39mcompiling Fortran sources\u001b[0m\r\n",
        "\u001b[39mFortran f77 compiler: /usr/bin/gfortran -Wall -ffixed-form -fno-second-underscore -fPIC -O3 -funroll-loops\r\n",
        "Fortran f90 compiler: /usr/bin/gfortran -Wall -fno-second-underscore -fPIC -O3 -funroll-loops\r\n",
        "Fortran fix compiler: /usr/bin/gfortran -Wall -ffixed-form -fno-second-underscore -Wall -fno-second-underscore -fPIC -O3 -funroll-loops\u001b[0m\r\n",
        "\u001b[39mcompile options: '-I/tmp/tmpuvgeRl/src.linux-i686-2.7 -I/usr/lib/python2.7/dist-packages/numpy/core/include -I/usr/include/python2.7 -c'\u001b[0m\r\n",
        "\u001b[39mgfortran:f77: tbdos.f\u001b[0m\r\n",
        "tbdos.f:15.21:\r\n",
        "\r\n",
        "       parameter (PI=4.D0*DATAN(1.D0))                                  \r\n",
        "                     1\r\n",
        "Warning: Change of value in conversion from  REAL(8) to REAL(4) at (1)\r\n",
        "\u001b[39m/usr/bin/gfortran -Wall -Wall -shared /tmp/tmpuvgeRl/tmp/tmpuvgeRl/src.linux-i686-2.7/tbdosmodule.o /tmp/tmpuvgeRl/tmp/tmpuvgeRl/src.linux-i686-2.7/fortranobject.o /tmp/tmpuvgeRl/tbdos.o -lgfortran -o ./tbdos.so\u001b[0m\r\n"
       ]
      },
      {
       "output_type": "stream",
       "stream": "stdout",
       "text": [
        "\u001b[39mrunning scons\u001b[0m\r\n",
        "Removing build directory /tmp/tmpuvgeRl\r\n"
       ]
      }
     ],
     "prompt_number": 4
    },
    {
     "cell_type": "code",
     "collapsed": false,
     "input": [
      "import tbdos\n",
      "\n",
      "tbdos.tbdos(0.5, 100, 0.01)"
     ],
     "language": "python",
     "metadata": {},
     "outputs": [
      {
       "metadata": {},
       "output_type": "pyout",
       "prompt_number": 5,
       "text": [
        "0.5641245970695941"
       ]
      }
     ],
     "prompt_number": 5
    },
    {
     "cell_type": "markdown",
     "metadata": {},
     "source": [
      "### Benchmart python vs. Fortran"
     ]
    },
    {
     "cell_type": "code",
     "collapsed": false,
     "input": [
      "timeit tb_dos( 3, 0.5, 100, 0.01)"
     ],
     "language": "python",
     "metadata": {},
     "outputs": [
      {
       "output_type": "stream",
       "stream": "stdout",
       "text": [
        "1 loops, best of 3: 1.22 s per loop\n"
       ]
      }
     ],
     "prompt_number": 6
    },
    {
     "cell_type": "code",
     "collapsed": false,
     "input": [
      "timeit tbdos.tbdos(0.5, 100, 0.01)"
     ],
     "language": "python",
     "metadata": {},
     "outputs": [
      {
       "output_type": "stream",
       "stream": "stdout",
       "text": [
        "10 loops, best of 3: 24.2 ms per loop\n"
       ]
      }
     ],
     "prompt_number": 7
    },
    {
     "cell_type": "code",
     "collapsed": false,
     "input": [
      "print \"Performnance improvement = \", 1220 / 24. "
     ],
     "language": "python",
     "metadata": {},
     "outputs": [
      {
       "output_type": "stream",
       "stream": "stdout",
       "text": [
        "Performnance improvement =  50.8333333333\n"
       ]
      }
     ],
     "prompt_number": 9
    },
    {
     "cell_type": "markdown",
     "metadata": {},
     "source": [
      "## Make plot"
     ]
    },
    {
     "cell_type": "code",
     "collapsed": false,
     "input": [
      "tbdos.tbdos( 0.5, 500, 0.001)"
     ],
     "language": "python",
     "metadata": {},
     "outputs": [
      {
       "metadata": {},
       "output_type": "pyout",
       "prompt_number": 10,
       "text": [
        "0.5681321583766253"
       ]
      }
     ],
     "prompt_number": 10
    },
    {
     "cell_type": "code",
     "collapsed": false,
     "input": [
      "es = np.linspace( 0., 3., 40)\n",
      "dos = np.empty_like(es)\n",
      "for ii,e in enumerate(es):\n",
      "    dos[ii] = tbdos.tbdos( e, 500, 0.001)\n",
      "    if ii % 5 == 0:\n",
      "        print ii \n",
      "\n",
      "plt.plot( es, dos )"
     ],
     "language": "python",
     "metadata": {},
     "outputs": [
      {
       "output_type": "stream",
       "stream": "stdout",
       "text": [
        "0\n",
        "5"
       ]
      },
      {
       "output_type": "stream",
       "stream": "stdout",
       "text": [
        "\n",
        "10"
       ]
      },
      {
       "output_type": "stream",
       "stream": "stdout",
       "text": [
        "\n",
        "15"
       ]
      },
      {
       "output_type": "stream",
       "stream": "stdout",
       "text": [
        "\n",
        "20"
       ]
      },
      {
       "output_type": "stream",
       "stream": "stdout",
       "text": [
        "\n",
        "25"
       ]
      },
      {
       "output_type": "stream",
       "stream": "stdout",
       "text": [
        "\n",
        "30"
       ]
      },
      {
       "output_type": "stream",
       "stream": "stdout",
       "text": [
        "\n",
        "35"
       ]
      },
      {
       "output_type": "stream",
       "stream": "stdout",
       "text": [
        "\n"
       ]
      },
      {
       "metadata": {},
       "output_type": "pyout",
       "prompt_number": 11,
       "text": [
        "[<matplotlib.lines.Line2D at 0xa69976c>]"
       ]
      },
      {
       "metadata": {},
       "output_type": "display_data",
       "png": "[encoded data removed]",
       "text": [
        "<matplotlib.figure.Figure at 0xa6551ac>"
       ]
      }
     ],
     "prompt_number": 11
    },
    {
     "cell_type": "code",
     "collapsed": false,
     "input": [],
     "language": "python",
     "metadata": {},
     "outputs": []
    }
   ],
   "metadata": {}
  }
 ]
}